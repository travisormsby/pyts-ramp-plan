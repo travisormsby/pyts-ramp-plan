{
 "cells": [
  {
   "cell_type": "markdown",
   "metadata": {},
   "source": [
    "# Challenge Answers"
   ]
  },
  {
   "cell_type": "markdown",
   "metadata": {},
   "source": [
    "## Create Point objects"
   ]
  },
  {
   "cell_type": "code",
   "execution_count": 1,
   "metadata": {},
   "outputs": [
    {
     "data": {
      "text/plain": [
       "<Point (0.0, 0.0, #, #)>"
      ]
     },
     "metadata": {},
     "output_type": "display_data"
    }
   ],
   "source": [
    "# Default location at (0, 0)\n",
    "pt1 = arcpy.Point()\n",
    "\n",
    "# A Point object is just a container for coordinate values\n",
    "display(pt1)"
   ]
  },
  {
   "cell_type": "code",
   "execution_count": 2,
   "metadata": {},
   "outputs": [
    {
     "data": {
      "text/plain": [
       "<Point (3.0, 5.0, #, #)>"
      ]
     },
     "metadata": {},
     "output_type": "display_data"
    }
   ],
   "source": [
    "# Change coordinates of Point object\n",
    "pt2 = arcpy.Point()\n",
    "pt2.X = 3\n",
    "pt2.Y = 5\n",
    "\n",
    "display(pt2)"
   ]
  },
  {
   "cell_type": "code",
   "execution_count": 3,
   "metadata": {},
   "outputs": [
    {
     "data": {
      "text/plain": [
       "<Point (1.0, 6.0, #, #)>"
      ]
     },
     "metadata": {},
     "output_type": "display_data"
    }
   ],
   "source": [
    "# Create Point object with specified location\n",
    "pt3 = arcpy.Point(1, 6)\n",
    "\n",
    "display(pt3)"
   ]
  },
  {
   "cell_type": "markdown",
   "metadata": {},
   "source": [
    "## Create PointGeometry Object"
   ]
  },
  {
   "cell_type": "code",
   "execution_count": 4,
   "metadata": {},
   "outputs": [],
   "source": [
    "ptGeom = arcpy.PointGeometry(pt1)"
   ]
  },
  {
   "cell_type": "markdown",
   "metadata": {},
   "source": [
    "## Create an array of Point objects"
   ]
  },
  {
   "cell_type": "code",
   "execution_count": 5,
   "metadata": {},
   "outputs": [
    {
     "data": {
      "text/plain": [
       "<Array [<Point (0.0, 0.0, #, #)>, <Point (3.0, 5.0, #, #)>, <Point (1.0, 6.0, #, #)>]>"
      ]
     },
     "metadata": {},
     "output_type": "display_data"
    }
   ],
   "source": [
    "ptArray = arcpy.Array([pt1, pt2, pt3])\n",
    "\n",
    "display(ptArray)"
   ]
  },
  {
   "cell_type": "markdown",
   "metadata": {},
   "source": [
    "## Create a Geometry object from an array of Point objects"
   ]
  },
  {
   "cell_type": "code",
   "execution_count": 6,
   "metadata": {},
   "outputs": [],
   "source": [
    "# Multipoint\n",
    "mPoint = arcpy.Multipoint(ptArray)"
   ]
  },
  {
   "cell_type": "code",
   "execution_count": 7,
   "metadata": {},
   "outputs": [],
   "source": [
    "# Polygon\n",
    "pGon = arcpy.Polygon(ptArray)"
   ]
  },
  {
   "cell_type": "markdown",
   "metadata": {},
   "source": [
    "## Create a Geometry object with a specified coordinate reference system"
   ]
  },
  {
   "cell_type": "code",
   "execution_count": 8,
   "metadata": {},
   "outputs": [],
   "source": [
    "# Polyline with WGS84 UTM Zone 15 N spatial reference\n",
    "\n",
    "crs = arcpy.SpatialReference(32615)\n",
    "pLine = arcpy.Polyline(ptArray, crs)"
   ]
  },
  {
   "cell_type": "markdown",
   "metadata": {},
   "source": [
    "## Display an svg representation of a geometry object"
   ]
  },
  {
   "cell_type": "code",
   "execution_count": 9,
   "metadata": {},
   "outputs": [
    {
     "data": {
      "image/svg+xml": [
       "<svg xmlns=\"http://www.w3.org/2000/svg\" xmlns:xlink=\"http://www.w3.org/1999/xlink\" width=\"100.0\" height=\"100.0\" viewBox=\"-1.0 -1.0 2.0 2.0\" preserveAspectRatio=\"xMinYMin meet\"><g transform=\"matrix(1,0,0,-1,0,0.0)\"><circle cx=\"0.0\" cy=\"0.0\" r=\"0.06\" stroke=\"#555555\" stroke-width=\"0.02\" fill=\"#66cc99\" opacity=\"0.6\" /></g></svg>"
      ],
      "text/plain": [
       "<PointGeometry object at 0x1c6fbe71a08[0x1c6834e7f00]>"
      ]
     },
     "metadata": {},
     "output_type": "display_data"
    }
   ],
   "source": [
    "display(ptGeom)"
   ]
  },
  {
   "cell_type": "code",
   "execution_count": 10,
   "metadata": {},
   "outputs": [
    {
     "data": {
      "image/svg+xml": [
       "<svg xmlns=\"http://www.w3.org/2000/svg\" xmlns:xlink=\"http://www.w3.org/1999/xlink\" width=\"100.0\" height=\"100.0\" viewBox=\"-0.24 -0.24 3.4800000000000004 6.48\" preserveAspectRatio=\"xMinYMin meet\"><g transform=\"matrix(1,0,0,-1,0,6.0)\"><g><circle cx=\"0\" cy=\"0\" r=\"0.19440000000000002\" stroke=\"#555555\" stroke-width=\"0.06480000000000001\" fill=\"#66cc99\" opacity=\"0.6\" /><circle cx=\"3\" cy=\"5\" r=\"0.19440000000000002\" stroke=\"#555555\" stroke-width=\"0.06480000000000001\" fill=\"#66cc99\" opacity=\"0.6\" /><circle cx=\"1\" cy=\"6\" r=\"0.19440000000000002\" stroke=\"#555555\" stroke-width=\"0.06480000000000001\" fill=\"#66cc99\" opacity=\"0.6\" /></g></g></svg>"
      ],
      "text/plain": [
       "<Multipoint object at 0x1c683505708[0x1c6834e7480]>"
      ]
     },
     "metadata": {},
     "output_type": "display_data"
    }
   ],
   "source": [
    "display(mPoint)"
   ]
  },
  {
   "cell_type": "code",
   "execution_count": 11,
   "metadata": {},
   "outputs": [
    {
     "data": {
      "image/svg+xml": [
       "<svg xmlns=\"http://www.w3.org/2000/svg\" xmlns:xlink=\"http://www.w3.org/1999/xlink\" width=\"100.0\" height=\"100.0\" viewBox=\"-0.24000488281250001 -0.24000488281250001 3.4801318359374998 6.480131835937501\" preserveAspectRatio=\"xMinYMin meet\"><g transform=\"matrix(1,0,0,-1,0,6.0001220703125)\"><path fill-rule=\"evenodd\" fill=\"#66cc99\" stroke=\"#555555\" stroke-width=\"0.12960263671875003\" opacity=\"0.6\" d=\" M 0,0 L 1.0001220703125,6.0001220703125 L 3.0001220703125,5.0001220703125 L 0,0 z\" /></g></svg>"
      ],
      "text/plain": [
       "<Polygon object at 0x1c6835059c8[0x1c6834e7570]>"
      ]
     },
     "metadata": {},
     "output_type": "display_data"
    }
   ],
   "source": [
    "display(pGon)"
   ]
  },
  {
   "cell_type": "code",
   "execution_count": 12,
   "metadata": {},
   "outputs": [
    {
     "data": {
      "image/svg+xml": [
       "<svg xmlns=\"http://www.w3.org/2000/svg\" xmlns:xlink=\"http://www.w3.org/1999/xlink\" width=\"100.0\" height=\"100.0\" viewBox=\"-0.24 -0.24 3.4800000000000004 6.48\" preserveAspectRatio=\"xMinYMin meet\"><g transform=\"matrix(1,0,0,-1,0,6.0)\"><g><polyline fill=\"none\" stroke=\"#66cc99\" stroke-width=\"0.12960000000000002\" points=\"0,0 3,5 1,6\" opacity=\"0.8\" /></g></g></svg>"
      ],
      "text/plain": [
       "<Polyline object at 0x1c683505e48[0x1c6834e7c90]>"
      ]
     },
     "metadata": {},
     "output_type": "display_data"
    }
   ],
   "source": [
    "display(pLine)"
   ]
  },
  {
   "cell_type": "markdown",
   "metadata": {},
   "source": [
    "## Access a spatial property of a Geometry object"
   ]
  },
  {
   "cell_type": "code",
   "execution_count": 13,
   "metadata": {},
   "outputs": [
    {
     "data": {
      "text/html": [
       "<style>table td#td0  {font-weight: bold}</style><table class=\"notebook\"><colgroup><col style=\"width:45%\"></col><col style=\"width:55%\"></col></colgroup><tr><td id = \"td0\" title=\"name (Projected Coordinate System)\">name (Projected Coordinate System)</td><td title=\"WGS_1984_UTM_Zone_15N\">WGS_1984_UTM_Zone_15N</td></tr><tr><td id = \"td0\" title=\"factoryCode (WKID)\">factoryCode (WKID)</td><td title=\"32615\">32615</td></tr><tr><td id = \"td0\" title=\"linearUnitName (Linear Unit)\">linearUnitName (Linear Unit)</td><td title=\"Meter\">Meter</td></tr></table><div class=\"subtitle\">spatialReference.GCS</div><style>table td#td0  {font-weight: bold}</style><table class=\"notebook\"><colgroup><col style=\"width:45%\"></col><col style=\"width:55%\"></col></colgroup><tr><td id = \"td0\" title=\"name (Geographic Coordinate System)\">name (Geographic Coordinate System)</td><td title=\"GCS_WGS_1984\">GCS_WGS_1984</td></tr><tr><td id = \"td0\" title=\"factoryCode (WKID)\">factoryCode (WKID)</td><td title=\"4326\">4326</td></tr><tr><td id = \"td0\" title=\"angularUnitName (Angular Unit)\">angularUnitName (Angular Unit)</td><td title=\"Degree\">Degree</td></tr><tr><td id = \"td0\" title=\"datumName (Datum)\">datumName (Datum)</td><td title=\"D_WGS_1984\">D_WGS_1984</td></tr></table>"
      ],
      "text/plain": [
       "<SpatialReference object at 0x1c6834f8a08[0x1c6833bef50]>"
      ]
     },
     "execution_count": 13,
     "metadata": {},
     "output_type": "execute_result"
    }
   ],
   "source": [
    "pLine.spatialReference"
   ]
  },
  {
   "cell_type": "code",
   "execution_count": 14,
   "metadata": {},
   "outputs": [
    {
     "data": {
      "text/plain": [
       "8.06701987234509"
      ]
     },
     "execution_count": 14,
     "metadata": {},
     "output_type": "execute_result"
    }
   ],
   "source": [
    "pLine.length"
   ]
  },
  {
   "cell_type": "markdown",
   "metadata": {},
   "source": [
    "## Access a spatial method of a Geometry object"
   ]
  },
  {
   "cell_type": "code",
   "execution_count": 28,
   "metadata": {},
   "outputs": [
    {
     "name": "stdout",
     "output_type": "stream",
     "text": [
      "The X coordinate is: 2.075223741635528 and the Y coordinate is: 3.458706236059213\n"
     ]
    },
    {
     "data": {
      "text/plain": [
       "[None]"
      ]
     },
     "execution_count": 28,
     "metadata": {},
     "output_type": "execute_result"
    }
   ],
   "source": [
    "# find a point exactly 50% of the way along the distance of a line\n",
    "midPoint = pLine.positionAlongLine(0.50, True)\n",
    "[print(f\"The X coordinate is: {row.X} and the Y coordinate is: {row.Y}\") for row in midPoint]"
   ]
  },
  {
   "cell_type": "markdown",
   "metadata": {},
   "source": [
    "## Pass a geometry object to a geoprocessing tool"
   ]
  },
  {
   "cell_type": "code",
   "execution_count": 16,
   "metadata": {},
   "outputs": [
    {
     "data": {
      "text/html": [
       "<div class='gpresult'><h2>Messages</h2><div id='messages' data-messages='[\"Start Time: Wednesday, August 24, 2022 4:33:29 PM\",\"Succeeded at Wednesday, August 24, 2022 4:33:30 PM (Elapsed Time: 0.06 seconds)\"]' data-show='true'><div id = 'default' /></div></div>"
      ],
      "text/plain": [
       "<Result 'memory\\\\buffer'>"
      ]
     },
     "execution_count": 16,
     "metadata": {},
     "output_type": "execute_result"
    }
   ],
   "source": [
    "bufferOutput = \"memory/buffer\"\n",
    "\n",
    "arcpy.analysis.Buffer(pLine, bufferOutput, \"1 meter\")"
   ]
  },
  {
   "cell_type": "markdown",
   "metadata": {},
   "source": [
    "## Use a cursor to access the geometry of a feature"
   ]
  },
  {
   "cell_type": "code",
   "execution_count": 17,
   "metadata": {},
   "outputs": [
    {
     "data": {
      "image/svg+xml": [
       "<svg xmlns=\"http://www.w3.org/2000/svg\" xmlns:xlink=\"http://www.w3.org/1999/xlink\" width=\"100.0\" height=\"100.0\" viewBox=\"-1.3199000001698733 -1.32 5.639900000000001 8.64\" preserveAspectRatio=\"xMinYMin meet\"><g transform=\"matrix(1,0,0,-1,0,6.0)\"><path fill-rule=\"evenodd\" fill=\"#66cc99\" stroke=\"#555555\" stroke-width=\"0.1728\" opacity=\"0.6\" d=\" M 0.04490000009536743,-0.9989999998360872 L -0.0530218690550922,-0.9985973797810459 L -0.15043486930931815,-0.9886193067056166 L -0.246404900075979,-0.9691614611035297 L -0.3400116975067656,-0.9404104257207795 L -0.4303576589756979,-0.9026418963996286 L -0.5165764502582649,-0.8562180384104262 L -0.597841312875508,-0.8015840136215725 L -0.6733729919433034,-0.7392637118088564 L -0.7424472085060968,-0.6698547270369646 L -0.804401604702323,-0.5940226272850159 L -0.8586420951637923,-0.5124945722651164 L -0.9046485637450006,-0.42605234063314873 L -0.9419798509559965,-0.3355248334543988 L -0.9702779842739344,-0.2417801258088539 L -0.9892716107685392,-0.1457171427539231 L -0.9987785991257786,-0.048257039464403705 L -0.9987077861187412,0.0496656317938214 L -0.9890598507786814,0.147111883155803 L -0.9699273078837372,0.24314729518283393 L -0.9414936208277594,0.33685097708077855 L -0.9040314423760202,0.42732439719120896 L -0.8579000001773238,0.5136999990791082 L 1.5869000004604459,4.588500000536442 L 0.5527999997138977,5.105599999427795 L 0.4672802407664205,5.153736623960165 L 0.38689072758074006,5.210024188853081 L 0.31240571964034924,5.273920568906452 L 0.2445426080761368,5.344810355763433 L 0.18395500622180394,5.422010785123287 L 0.1312264544355246,5.5047783126828715 L 0.08686479981891138,5.592315775471561 L 0.05129730496417528,5.683780069606285 L 0.02486653283884921,5.778290270519541 L 0.007827047442179769,5.874936117451634 L 0.00034296201032668616,5.97278678049003 L 0.002486358384456433,6.070899825717402 L 0.014236592765349387,6.1683302921219045 L 0.035480494541042185,6.264139792846779 L 0.06601345627252442,6.357405553121967 L 0.10554140433945769,6.447229297830271 L 0.15368363126594176,6.532745903108801 L 0.2099764624472027,6.613131728659099 L 0.27387772196168614,6.687612550514578 L 0.34477195445675257,6.755471017861994 L 0.42197635281417245,6.8160535620977205 L 0.5047473345040003,6.868776691575276 L 0.592287703287677,6.913132611417196 L 0.683754327293478,6.948694114264889 L 0.778266259514098,6.975118694861934 L 0.8749132225150174,6.992151848841857 L 0.9727643756344538,6.999629523948585 L 1.070877280234936,6.997479700081031 L 1.1683069766590477,6.985723082943849 L 1.2641150854659795,6.964472904623559 L 1.3573788452917201,6.933933833010765 L 1.4472000002861023,6.894400000572205 L 3.4472000002861023,5.894400000572205 L 3.5316009363091223,5.846957492611174 L 3.6110184279621254,5.791575441522942 L 3.684708047151074,5.7287729767068045 L 3.7519790565884836,5.659138783579676 L 3.812200884491022,5.583325585472279 L 3.8648090353095115,5.502044025259316 L 3.9093103810865024,5.416056004074787 L 3.945287783842321,5.326167539552692 L 3.9724040056611822,5.233221210537153 L 3.9904048698257664,5.138088259082242 L 3.9991216433690395,5.0416604237742275 L 3.998472618710216,4.944841580927462 L 3.9884638795492426,4.848539272006014 L 3.9691892438406065,4.753656196689635 L 3.9408293843810065,4.661081751324695 L 3.9036501352541606,4.5716836920753 L 3.8580000000074506,4.486300000920892 L 0.8574999999254942,-0.5144999995827675 L 0.8027236859568955,-0.5963744039747638 L 0.7401568199069369,-0.6724615246931693 L 0.6704066736047121,-0.7420228627866023 L 0.594150239547986,-0.8043832583232156 L 0.5121276600375221,-0.8589374434695476 L 0.42513504338161423,-0.9051559171990962 L 0.3340167368964937,-0.942590084610891 L 0.23965713170059894,-0.9708766109760267 L 0.14297207884509328,-0.989740948251922 L 0.04490000009536743,-0.9989999998360872 z\" /></g></svg>"
      ],
      "text/plain": [
       "<Polygon object at 0x1c683505888[0x1c6834e7c30]>"
      ]
     },
     "metadata": {},
     "output_type": "display_data"
    }
   ],
   "source": [
    "with arcpy.da.SearchCursor(bufferOutput, [\"SHAPE@\"]) as sCursor:\n",
    "    for row in sCursor:\n",
    "        display(row[0])"
   ]
  }
 ],
 "metadata": {
  "kernelspec": {
   "display_name": "ArcGISPro",
   "language": "Python",
   "name": "python3"
  },
  "language_info": {
   "file_extension": ".py",
   "name": "python",
   "version": "3"
  }
 },
 "nbformat": 4,
 "nbformat_minor": 2
}
