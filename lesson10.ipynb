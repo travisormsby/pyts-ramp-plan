{
 "cells": [
  {
   "cell_type": "markdown",
   "metadata": {},
   "source": [
    "# Challenge Answers"
   ]
  },
  {
   "cell_type": "markdown",
   "metadata": {},
   "source": [
    "## Share a script tool in a toolbox\n",
    "- A toolbox (either .tbx or .atbx) is just a file. It can be shared the same as any other file.\n",
    "- To make sure it works when shared, you must embed the script into the script tool in the toolbox.\n",
    "- You must also take case that the script contains no hard-coded file paths or other resources that won't be available on other machines."
   ]
  },
  {
   "cell_type": "markdown",
   "metadata": {},
   "source": [
    "## Share a script tool as a geoprocessing package\n",
    "- The workflow to share a script tool covered in this lesson describes how to create a geoprocessing package.\n",
    "- Importantly, you cannot share as a geoprocessing package from the Share tab unless you have successfully run the tool at least once\n",
    "- The package can be output as either a file or a portal item.\n",
    "- A geoprocessing package portal item does not let you run the tool on the server, it only lets you use the portal's security and sharing model to control who can download the package to their local machine."
   ]
  },
  {
   "cell_type": "markdown",
   "metadata": {},
   "source": [
    "## Key considerations for sharing a python script tool\n",
    "- Should a geoprocessing tool be used in the script, the user must be able to license that tool. Read [this help doc](https://pro.arcgis.com/en/pro-app/latest/arcpy/geoprocessing_and_python/accessing-licenses-and-extensions-in-python.htm) for more.\n",
    "- The end user must have any python packages used by the script tool installed. \n",
    "- Arcpy tools can  honor geoprocessing environment settings. If you hard code environment settings in your script, consider if that is helping or hurting the user. Read [this help doc](https://pro.arcgis.com/en/pro-app/latest/arcpy/geoprocessing_and_python/using-environment-settings.htm) for more details."
   ]
  },
  {
   "cell_type": "markdown",
   "metadata": {},
   "source": [
    "## Share a script tool as a web tool\n",
    "- Web tools require ArcGIS Enterprise. You cannot publish a web tool to an ArcGIS Online portal.\n",
    "- The video explains the process of sharing a web tool to ArcGIS Enterprise."
   ]
  }
 ],
 "metadata": {
  "kernelspec": {
   "display_name": "ArcGISPro",
   "language": "Python",
   "name": "python3"
  },
  "language_info": {
   "file_extension": ".py",
   "name": "python",
   "version": "3"
  }
 },
 "nbformat": 4,
 "nbformat_minor": 2
}
