{
 "cells": [
  {
   "cell_type": "markdown",
   "metadata": {},
   "source": [
    "# Challenge Answers"
   ]
  },
  {
   "cell_type": "markdown",
   "metadata": {
    "heading_collapsed": true
   },
   "source": [
    "## Share a script tool in a toolbox"
   ]
  },
  {
   "cell_type": "markdown",
   "metadata": {
    "hidden": true
   },
   "source": [
    "* A toolbox (either .tbx or .atbx) is just a file. It can be shared the same as any other file\n",
    "* To make sure it works when shared, you must embed the script into the script tool in the toolbox\n",
    "* You must also take case that the script contains no hard-coded file paths or other resources that won't be available on other machines"
   ]
  },
  {
   "cell_type": "markdown",
   "metadata": {
    "heading_collapsed": true
   },
   "source": [
    "## Share a script tool as a geoprocessing package"
   ]
  },
  {
   "cell_type": "markdown",
   "metadata": {
    "hidden": true
   },
   "source": [
    "* The workflow to share a script tool covered in this lesson describes how to create a geoprocessing package\n",
    "* Importantly, you cannot share as a geoprocessing package from the Share tab unless you have successfully run the tool at least once\n",
    "* The package can be output as either a file or a portal item\n",
    "* A geoprocessing package portal item does not let you run the tool on the server, it only lets you use the portal's security and sharing model to control who can download the package to their local machine"
   ]
  },
  {
   "cell_type": "markdown",
   "metadata": {
    "heading_collapsed": true
   },
   "source": [
    "## Share a script tool as a web tool"
   ]
  },
  {
   "cell_type": "markdown",
   "metadata": {
    "hidden": true
   },
   "source": [
    "* Web tools require ArcGIS Enterprise. You cannot upload a web tool to an ArcGIS Online portal\n",
    "* The <a href=\"https://esriis.sharepoint.com/:f:/r/sites/Instructor-ledcourses/Shared%20Documents/PYTS/WebToolVideos?csf=1&web=1&e=abdrwd\" target=\"_blank\">web tool videos</a> recorded by Jeff Bigos describe how to publish and use the web tools\n",
    "* Publishing a web tool can be tricky. Travis Ormsby, Jeff Bigos, or other Enterprise instructors are good resources if you run into trouble."
   ]
  }
 ],
 "metadata": {
  "kernelspec": {
   "display_name": "ArcGISPro",
   "language": "Python",
   "name": "python3"
  },
  "language_info": {
   "file_extension": ".py",
   "name": "python",
   "version": "3"
  }
 },
 "nbformat": 4,
 "nbformat_minor": 2
}
