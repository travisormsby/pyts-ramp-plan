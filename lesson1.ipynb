{
 "cells": [
  {
   "cell_type": "markdown",
   "metadata": {},
   "source": [
    "# Challenge Answers"
   ]
  },
  {
   "cell_type": "markdown",
   "metadata": {},
   "source": [
    "## Create a standalone script that calls a geoprocessing tool\n",
    "- After running the geoprocessing tool, open the history pane\n",
    "- Right click the successful run of the tool and select Copy Python command\n",
    "- Open any text editor and paste the copied Python snippet\n",
    "- Save the file with a .py extension"
   ]
  },
  {
   "cell_type": "markdown",
   "metadata": {},
   "source": [
    "## Run a script from the ArcGIS Pro Python window\n",
    "- In ArcGIS Pro, open the Python window\n",
    "- Right click the prompt and select Load code\n",
    "- Navigate to the .py file you saved and select it\n",
    "- Press enter to run the script in the Python window"
   ]
  }
 ],
 "metadata": {
  "kernelspec": {
   "display_name": "ArcGISPro",
   "language": "Python",
   "name": "python3"
  },
  "language_info": {
   "file_extension": ".py",
   "name": "python",
   "version": "3"
  }
 },
 "nbformat": 4,
 "nbformat_minor": 2
}
