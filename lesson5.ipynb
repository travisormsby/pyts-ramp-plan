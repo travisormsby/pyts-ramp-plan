{
 "cells": [
  {
   "cell_type": "markdown",
   "metadata": {},
   "source": [
    "# Challenge Answers"
   ]
  },
  {
   "cell_type": "markdown",
   "metadata": {},
   "source": [
    "There are many different ways to answer this challenge. Below is one response that shows how the cursor workflow in Lesson 5 can be done with a single cursor. It is not necessary to use both SearchCursor and UpdateCursor."
   ]
  },
  {
   "cell_type": "markdown",
   "metadata": {},
   "source": [
    "## Update a selected set of records in a table"
   ]
  },
  {
   "cell_type": "code",
   "execution_count": 1,
   "metadata": {},
   "outputs": [],
   "source": [
    "import arcpy \n",
    "fc = r\"C:\\EsriTraining\\PYTS\\Data\\CountyData.gdb\\ParcelPts\"\n",
    "fields = ['TaxValue', 'SquFoot', 'PriceSquFt']\n",
    "exp = \"TaxValue / SquFoot < 90\"\n",
    "with arcpy.da.UpdateCursor(fc, fields, exp) as sCursor:\n",
    "    for row in sCursor:\n",
    "        row[2] = row[0] / row[1]\n",
    "        sCursor.updateRow(row)\n",
    "del sCursor"
   ]
  }
 ],
 "metadata": {
  "kernelspec": {
   "display_name": "Python 3",
   "language": "python",
   "name": "python3"
  },
  "language_info": {
   "codemirror_mode": {
    "name": "ipython",
    "version": 3
   },
   "file_extension": ".py",
   "mimetype": "text/x-python",
   "name": "python",
   "nbconvert_exporter": "python",
   "pygments_lexer": "ipython3",
   "version": "3.7.11"
  }
 },
 "nbformat": 4,
 "nbformat_minor": 2
}
