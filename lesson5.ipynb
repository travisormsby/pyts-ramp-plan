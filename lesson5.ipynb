{
 "cells": [
  {
   "cell_type": "markdown",
   "metadata": {},
   "source": [
    "# Challenge Answers "
   ]
  },
  {
   "cell_type": "markdown",
   "metadata": {},
   "source": [
    "There are many different ways to answer this challenge. Below is one response that shows how the cursor workflow in Lesson 5 can be done with a single cursor. It is not necessary to use both SearchCursor and UpdateCursor"
   ]
  },
  {
   "cell_type": "markdown",
   "metadata": {
    "heading_collapsed": true
   },
   "source": [
    "## Update a selected set of records in a table"
   ]
  },
  {
   "cell_type": "code",
   "execution_count": 32,
   "metadata": {
    "hidden": true
   },
   "outputs": [],
   "source": [
    "fc = r\"C:\\EsriTraining\\PYTS\\Data\\CountyData.gdb\\ParcelPts\"\n",
    "fields = ['TaxValue', 'SquFoot', 'PriceSquFt']\n",
    "exp = \"TaxValue / SquFoot < 90\"\n",
    "with arcpy.da.UpdateCursor(fc, fields, exp) as sCursor:\n",
    "    for row in sCursor:\n",
    "        row[2] = row[0] / row[1]\n",
    "        sCursor.updateRow(row)\n",
    "del sCursor"
   ]
  }
 ],
 "metadata": {
  "kernelspec": {
   "display_name": "ArcGISPro",
   "language": "Python",
   "name": "python3"
  },
  "language_info": {
   "file_extension": ".py",
   "name": "python",
   "version": "3"
  }
 },
 "nbformat": 4,
 "nbformat_minor": 2
}
