{
 "cells": [
  {
   "cell_type": "markdown",
   "id": "774bc5a8",
   "metadata": {},
   "source": [
    "# Challenge Answers"
   ]
  },
  {
   "cell_type": "markdown",
   "id": "c393a64e",
   "metadata": {},
   "source": [
    "There are many possible correct responses to this challenge. The answers below represent one set of correct answers."
   ]
  },
  {
   "cell_type": "markdown",
   "id": "6367f8c7",
   "metadata": {
    "heading_collapsed": true
   },
   "source": [
    "## Create Describe object"
   ]
  },
  {
   "cell_type": "code",
   "execution_count": 4,
   "id": "09fc5f8b",
   "metadata": {
    "hidden": true
   },
   "outputs": [],
   "source": [
    "featureClass = r\"C:\\EsriTraining\\PYTS\\Data\\CountyData.gdb\\ParcelPts\"\n",
    "desc1 = arcpy.Describe(featureClass)"
   ]
  },
  {
   "cell_type": "code",
   "execution_count": 5,
   "id": "a9c49db8",
   "metadata": {
    "hidden": true
   },
   "outputs": [],
   "source": [
    "fileGDB = r\"C:\\EsriTraining\\PYTS\\Data\\Outages.gdb\"\n",
    "desc2 = arcpy.Describe(fileGDB)"
   ]
  },
  {
   "cell_type": "markdown",
   "id": "d87f6092",
   "metadata": {
    "heading_collapsed": true
   },
   "source": [
    "## Create da.Describe dictionary"
   ]
  },
  {
   "cell_type": "code",
   "execution_count": 6,
   "id": "e3f7ab67",
   "metadata": {
    "hidden": true
   },
   "outputs": [],
   "source": [
    "daDesc1 = arcpy.da.Describe(featureClass)"
   ]
  },
  {
   "cell_type": "markdown",
   "id": "2c39b1ef",
   "metadata": {
    "heading_collapsed": true
   },
   "source": [
    "## Compare Describe objects"
   ]
  },
  {
   "cell_type": "code",
   "execution_count": 14,
   "id": "d44c02c9",
   "metadata": {
    "hidden": true
   },
   "outputs": [
    {
     "data": {
      "text/plain": [
       "False"
      ]
     },
     "execution_count": 14,
     "metadata": {},
     "output_type": "execute_result"
    }
   ],
   "source": [
    "desc1.hasGlobalID"
   ]
  },
  {
   "cell_type": "code",
   "execution_count": 15,
   "id": "be671677",
   "metadata": {
    "hidden": true
   },
   "outputs": [
    {
     "ename": "AttributeError",
     "evalue": "DescribeData: Method hasGlobalID does not exist",
     "output_type": "error",
     "traceback": [
      "\u001b[0;31m---------------------------------------------------------------------------\u001b[0m\n\u001b[0;31mAttributeError\u001b[0m                            Traceback (most recent call last)",
      "In  \u001b[0;34m[15]\u001b[0m:\nLine \u001b[0;34m1\u001b[0m:     desc2.hasGlobalID\n",
      "\u001b[0;31mAttributeError\u001b[0m: DescribeData: Method hasGlobalID does not exist\n\u001b[0;31m---------------------------------------------------------------------------\u001b[0m"
     ]
    }
   ],
   "source": [
    "desc2.hasGlobalID"
   ]
  },
  {
   "cell_type": "code",
   "execution_count": 16,
   "id": "79e93d4c",
   "metadata": {
    "hidden": true
   },
   "outputs": [
    {
     "ename": "AttributeError",
     "evalue": "DescribeData: Method release does not exist",
     "output_type": "error",
     "traceback": [
      "\u001b[0;31m---------------------------------------------------------------------------\u001b[0m\n\u001b[0;31mAttributeError\u001b[0m                            Traceback (most recent call last)",
      "In  \u001b[0;34m[16]\u001b[0m:\nLine \u001b[0;34m1\u001b[0m:     desc1.release\n",
      "\u001b[0;31mAttributeError\u001b[0m: DescribeData: Method release does not exist\n\u001b[0;31m---------------------------------------------------------------------------\u001b[0m"
     ]
    }
   ],
   "source": [
    "desc1.release"
   ]
  },
  {
   "cell_type": "code",
   "execution_count": 17,
   "id": "9def5d45",
   "metadata": {
    "hidden": true
   },
   "outputs": [
    {
     "data": {
      "text/plain": [
       "'3,0,0'"
      ]
     },
     "execution_count": 17,
     "metadata": {},
     "output_type": "execute_result"
    }
   ],
   "source": [
    "desc2.release"
   ]
  },
  {
   "cell_type": "markdown",
   "id": "85f48219",
   "metadata": {
    "heading_collapsed": true
   },
   "source": [
    "## Compare Describe object and da.Describe dictionary"
   ]
  },
  {
   "cell_type": "code",
   "execution_count": 20,
   "id": "ec83c8a8",
   "metadata": {
    "hidden": true
   },
   "outputs": [
    {
     "name": "stdout",
     "output_type": "stream",
     "text": [
      "<geoprocessing describe data object object at 0x000001EFFDA80DF0>\n"
     ]
    }
   ],
   "source": [
    "from pprint import pprint\n",
    "pprint(desc1)"
   ]
  },
  {
   "cell_type": "code",
   "execution_count": 21,
   "id": "d1e11c50",
   "metadata": {
    "hidden": true
   },
   "outputs": [
    {
     "name": "stdout",
     "output_type": "stream",
     "text": [
      "{'DSID': 11,\n",
      " 'FIDSet': None,\n",
      " 'MExtent': 'nan nan',\n",
      " 'OIDFieldName': 'OBJECTID',\n",
      " 'ZExtent': 'nan nan',\n",
      " 'aliasName': 'ParcelPts',\n",
      " 'areaFieldName': '',\n",
      " 'attributeRules': [],\n",
      " 'baseName': 'ParcelPts',\n",
      " 'canVersion': False,\n",
      " 'catalogPath': 'C:\\\\EsriTraining\\\\PYTS\\\\Data\\\\CountyData.gdb\\\\ParcelPts',\n",
      " 'changeTracked': False,\n",
      " 'children': [],\n",
      " 'childrenExpanded': True,\n",
      " 'createdAtFieldName': '',\n",
      " 'creatorFieldName': '',\n",
      " 'dataElementType': 'DEFeatureClass',\n",
      " 'dataType': 'FeatureClass',\n",
      " 'datasetType': 'FeatureClass',\n",
      " 'defaultSubtypeCode': -1,\n",
      " 'editedAtFieldName': '',\n",
      " 'editorFieldName': '',\n",
      " 'editorTrackingEnabled': False,\n",
      " 'extension': '',\n",
      " 'extensionProperties': {},\n",
      " 'extent': <Extent object at 0x1f009649108[0x1f00990cd50]>,\n",
      " 'featureType': 'Simple',\n",
      " 'fields': [<Field object at 0x1f009642348[0x1f009909fd0]>,\n",
      "            <Field object at 0x1f009642548[0x1f009909e30]>,\n",
      "            <Field object at 0x1f009642108[0x1f009909d70]>,\n",
      "            <Field object at 0x1f009642048[0x1f009909dd0]>,\n",
      "            <Field object at 0x1f009642888[0x1f009909ab0]>,\n",
      "            <Field object at 0x1f009642ac8[0x1f009909d10]>,\n",
      "            <Field object at 0x1f009642c88[0x1f009909b30]>,\n",
      "            <Field object at 0x1f0096429c8[0x1f009909bb0]>,\n",
      "            <Field object at 0x1f009642508[0x1f009909bd0]>,\n",
      "            <Field object at 0x1f009642b88[0x1f009909b50]>,\n",
      "            <Field object at 0x1f009642788[0x1f009909c50]>,\n",
      "            <Field object at 0x1f009642a08[0x1f009909670]>,\n",
      "            <Field object at 0x1f009642b08[0x1f009909a10]>],\n",
      " 'file': 'ParcelPts',\n",
      " 'fullPropsRetrieved': True,\n",
      " 'geometryStorage': '',\n",
      " 'globalIDFieldName': '',\n",
      " 'hasGlobalID': False,\n",
      " 'hasM': False,\n",
      " 'hasOID': True,\n",
      " 'hasSpatialIndex': True,\n",
      " 'hasZ': False,\n",
      " 'indexes': [<Index object at 0x1f00963f508[0x1f0099099d0]>,\n",
      "             <Index object at 0x1f00963f5c8[0x1f009909630]>],\n",
      " 'isCOGOEnabled': False,\n",
      " 'isTimeInUTC': True,\n",
      " 'isVersioned': False,\n",
      " 'lengthFieldName': '',\n",
      " 'metadataRetrieved': False,\n",
      " 'modelName': '',\n",
      " 'name': 'ParcelPts',\n",
      " 'path': 'C:\\\\EsriTraining\\\\PYTS\\\\Data\\\\CountyData.gdb',\n",
      " 'rasterFieldName': '',\n",
      " 'relationshipClassNames': [],\n",
      " 'representations': [],\n",
      " 'shapeFieldName': 'Shape',\n",
      " 'shapeType': 'Point',\n",
      " 'spatialReference': <SpatialReference object at 0x1f009639088[0x1f0099099b0]>,\n",
      " 'subtypeFieldName': '',\n",
      " 'versionedView': ''}\n"
     ]
    }
   ],
   "source": [
    "pprint(daDesc1)"
   ]
  },
  {
   "cell_type": "markdown",
   "id": "c677a6fa",
   "metadata": {
    "heading_collapsed": true
   },
   "source": [
    "## Display a Describe object"
   ]
  },
  {
   "cell_type": "code",
   "execution_count": 22,
   "id": "0b8ad25d",
   "metadata": {
    "hidden": true
   },
   "outputs": [
    {
     "data": {
      "text/html": [
       "<style>table td#td0  {font-weight: bold}</style><table class=\"notebook\"><colgroup><col style=\"width:45%\"></col><col style=\"width:55%\"></col></colgroup><tr><td id = \"td0\" title=\"catalogPath\">catalogPath</td><td title=\"C:\\EsriTraining\\PYTS\\Data\\CountyData.gdb\\ParcelPts\">C:\\EsriTraining\\PYTS\\Data\\CountyData.gdb\\ParcelPts</td></tr><tr><td id = \"td0\" title=\"dataType\">dataType</td><td title=\"FeatureClass\">FeatureClass</td></tr><tr><td id = \"td0\" title=\"shapeType\">shapeType</td><td title=\"Point\">Point</td></tr><tr><td id = \"td0\" title=\"hasM\">hasM</td><td title=\"False\">False</td></tr><tr><td id = \"td0\" title=\"hasZ\">hasZ</td><td title=\"False\">False</td></tr></table><div class=\"title\"><i class=\"chevron-open\" onClick=\"event.preventDefault();document.getElementById('267CCBE4-8431-469C-B4D8-8073EAAA9362').style.display =   document.getElementById('267CCBE4-8431-469C-B4D8-8073EAAA9362').style.display == 'none' ? 'block' : 'none';this.classList.toggle('chevron-closed');\"></i>fields</div><div id=\"267CCBE4-8431-469C-B4D8-8073EAAA9362\"><style>table td#td0  {font-weight: bold}</style><table class=\"notebook\"><colgroup><col style=\"width:45%\"></col><col style=\"width:55%\"></col></colgroup><tr><td id = \"td0\" title=\"OBJECTID\">OBJECTID</td><td title=\"OID\">OID</td></tr><tr><td id = \"td0\" title=\"Shape\">Shape</td><td title=\"Geometry\">Geometry</td></tr><tr><td id = \"td0\" title=\"Parcel_ID\">Parcel_ID</td><td title=\"Integer\">Integer</td></tr><tr><td id = \"td0\" title=\"Street_Number\">Street_Number</td><td title=\"Integer\">Integer</td></tr><tr><td id = \"td0\" title=\"Street_Name\">Street_Name</td><td title=\"String\">String</td></tr><tr><td id = \"td0\" title=\"City\">City</td><td title=\"String\">String</td></tr><tr><td id = \"td0\" title=\"State\">State</td><td title=\"String\">String</td></tr><tr><td id = \"td0\" title=\"Zip\">Zip</td><td title=\"Integer\">Integer</td></tr><tr><td id = \"td0\" title=\"Owner_Name\">Owner_Name</td><td title=\"String\">String</td></tr><tr><td id = \"td0\" title=\"Phone_Number\">Phone_Number</td><td title=\"String\">String</td></tr><tr><td id = \"td0\" title=\"SquFoot\">SquFoot</td><td title=\"Double\">Double</td></tr><tr><td id = \"td0\" title=\"TaxValue\">TaxValue</td><td title=\"Double\">Double</td></tr><tr><td id = \"td0\" title=\"PriceSquFt\">PriceSquFt</td><td title=\"Double\">Double</td></tr></table></div><div class=\"title\"><i class=\"chevron-open\" onClick=\"event.preventDefault();document.getElementById('C4198743-6977-4522-8BDA-DA9CBA9E795B').style.display =   document.getElementById('C4198743-6977-4522-8BDA-DA9CBA9E795B').style.display == 'none' ? 'block' : 'none';this.classList.toggle('chevron-closed');\"></i>spatialReference</div><div id=\"C4198743-6977-4522-8BDA-DA9CBA9E795B\"><style>table td#td0  {font-weight: bold}</style><table class=\"notebook\"><colgroup><col style=\"width:45%\"></col><col style=\"width:55%\"></col></colgroup><tr><td id = \"td0\" title=\"name (Projected Coordinate System)\">name (Projected Coordinate System)</td><td title=\"NAD_1983_CORS96_StatePlane_North_Carolina_FIPS_3200_Ft_US\">NAD_1983_CORS96_StatePlane_North_Carolina_FIPS_3200_Ft_US</td></tr><tr><td id = \"td0\" title=\"factoryCode (WKID)\">factoryCode (WKID)</td><td title=\"103501\">103501</td></tr><tr><td id = \"td0\" title=\"linearUnitName (Linear Unit)\">linearUnitName (Linear Unit)</td><td title=\"Foot_US\">Foot_US</td></tr></table><div class=\"subtitle\">spatialReference.GCS</div><style>table td#td0  {font-weight: bold}</style><table class=\"notebook\"><colgroup><col style=\"width:45%\"></col><col style=\"width:55%\"></col></colgroup><tr><td id = \"td0\" title=\"name (Geographic Coordinate System)\">name (Geographic Coordinate System)</td><td title=\"GCS_NAD_1983_CORS96\">GCS_NAD_1983_CORS96</td></tr><tr><td id = \"td0\" title=\"factoryCode (WKID)\">factoryCode (WKID)</td><td title=\"6783\">6783</td></tr><tr><td id = \"td0\" title=\"angularUnitName (Angular Unit)\">angularUnitName (Angular Unit)</td><td title=\"Degree\">Degree</td></tr><tr><td id = \"td0\" title=\"datumName (Datum)\">datumName (Datum)</td><td title=\"D_NAD_1983_CORS96\">D_NAD_1983_CORS96</td></tr></table></div><p class=\"gpresult\">For additional help,     see <a href=\"https://pro.arcgis.com/en/pro-app/latest/arcpy/functions/featureclass-properties.htm\" target=\"_blank\" >arcpy.Describe</a></p><br>"
      ],
      "text/plain": [
       "<geoprocessing describe data object at 0x1effda80df0>"
      ]
     },
     "metadata": {},
     "output_type": "display_data"
    }
   ],
   "source": [
    "display(desc1)"
   ]
  },
  {
   "cell_type": "markdown",
   "id": "87a28287",
   "metadata": {},
   "source": [
    "## Use a Describe object's properties in a geoprocessing tool"
   ]
  },
  {
   "cell_type": "code",
   "execution_count": null,
   "id": "761282c6",
   "metadata": {},
   "outputs": [],
   "source": [
    "# Create a new feature class with many of the same properties as an existing feature class\n",
    "\n",
    "path = desc1.path\n",
    "name = f\"{desc1.name}_new\"\n",
    "geom = desc.shapeType\n",
    "crs = desc.spatialReference\n",
    "\n",
    "arcpy.management.CreateFeatureclass(path, name, geom, spatial_reference=crs)"
   ]
  }
 ],
 "metadata": {
  "kernelspec": {
   "display_name": "ArcGISPro",
   "language": "Python",
   "name": "python3"
  },
  "language_info": {
   "file_extension": ".py",
   "name": "python",
   "version": "3"
  }
 },
 "nbformat": 4,
 "nbformat_minor": 5
}
