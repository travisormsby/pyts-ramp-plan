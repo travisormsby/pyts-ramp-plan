{
 "cells": [
  {
   "cell_type": "markdown",
   "metadata": {},
   "source": [
    "# Challenge Answers"
   ]
  },
  {
   "cell_type": "markdown",
   "metadata": {},
   "source": [
    "There are many possible correct responses to this challenge. The answers below represent one set of correct answers."
   ]
  },
  {
   "cell_type": "markdown",
   "metadata": {},
   "source": [
    "## Create a Describe object"
   ]
  },
  {
   "cell_type": "code",
   "execution_count": 1,
   "metadata": {},
   "outputs": [],
   "source": [
    "import arcpy \n",
    "featureClass = r\"C:\\EsriTraining\\PYTS\\Data\\CountyData.gdb\\ParcelPts\"\n",
    "desc1 = arcpy.Describe(featureClass)"
   ]
  },
  {
   "cell_type": "code",
   "execution_count": 2,
   "metadata": {},
   "outputs": [],
   "source": [
    "fileGDB = r\"C:\\EsriTraining\\PYTS\\Data\\Outages.gdb\"\n",
    "desc2 = arcpy.Describe(fileGDB)"
   ]
  },
  {
   "cell_type": "markdown",
   "metadata": {},
   "source": [
    "## Create da.Describe dictionary"
   ]
  },
  {
   "cell_type": "code",
   "execution_count": 3,
   "metadata": {},
   "outputs": [],
   "source": [
    "daDesc1 = arcpy.da.Describe(featureClass)"
   ]
  },
  {
   "cell_type": "markdown",
   "metadata": {},
   "source": [
    "## Compare Describe objects"
   ]
  },
  {
   "cell_type": "code",
   "execution_count": 4,
   "metadata": {},
   "outputs": [
    {
     "data": {
      "text/plain": [
       "False"
      ]
     },
     "execution_count": 4,
     "metadata": {},
     "output_type": "execute_result"
    }
   ],
   "source": [
    "desc1.hasGlobalID"
   ]
  },
  {
   "cell_type": "code",
   "execution_count": 5,
   "metadata": {},
   "outputs": [
    {
     "ename": "AttributeError",
     "evalue": "DescribeData: Method hasGlobalID does not exist",
     "output_type": "error",
     "traceback": [
      "\u001b[0;31m---------------------------------------------------------------------------\u001b[0m\n\u001b[0;31mAttributeError\u001b[0m                            Traceback (most recent call last)",
      "In  \u001b[0;34m[5]\u001b[0m:\nLine \u001b[0;34m1\u001b[0m:     desc2.hasGlobalID\n",
      "\u001b[0;31mAttributeError\u001b[0m: DescribeData: Method hasGlobalID does not exist\n\u001b[0;31m---------------------------------------------------------------------------\u001b[0m"
     ]
    }
   ],
   "source": [
    "desc2.hasGlobalID"
   ]
  },
  {
   "cell_type": "markdown",
   "metadata": {},
   "source": [
    "## Compare Describe object and da.Describe dictionary"
   ]
  },
  {
   "cell_type": "code",
   "execution_count": 6,
   "metadata": {},
   "outputs": [
    {
     "name": "stdout",
     "output_type": "stream",
     "text": [
      "<geoprocessing describe data object object at 0x000001D7924A1190>\n"
     ]
    }
   ],
   "source": [
    "from pprint import pprint\n",
    "pprint(desc1)"
   ]
  },
  {
   "cell_type": "code",
   "execution_count": 7,
   "metadata": {},
   "outputs": [
    {
     "name": "stdout",
     "output_type": "stream",
     "text": [
      "{'DSID': 11,\n",
      " 'FIDSet': None,\n",
      " 'MExtent': 'nan nan',\n",
      " 'OIDFieldName': 'OBJECTID',\n",
      " 'ZExtent': 'nan nan',\n",
      " 'aliasName': 'ParcelPts',\n",
      " 'areaFieldName': '',\n",
      " 'attributeRules': [],\n",
      " 'baseName': 'ParcelPts',\n",
      " 'canVersion': False,\n",
      " 'catalogPath': 'C:\\\\EsriTraining\\\\PYTS\\\\Data\\\\CountyData.gdb\\\\ParcelPts',\n",
      " 'changeTracked': False,\n",
      " 'children': [],\n",
      " 'childrenExpanded': True,\n",
      " 'createdAtFieldName': '',\n",
      " 'creatorFieldName': '',\n",
      " 'dataElementType': 'DEFeatureClass',\n",
      " 'dataType': 'FeatureClass',\n",
      " 'datasetType': 'FeatureClass',\n",
      " 'defaultSubtypeCode': -1,\n",
      " 'editedAtFieldName': '',\n",
      " 'editorFieldName': '',\n",
      " 'editorTrackingEnabled': False,\n",
      " 'extension': '',\n",
      " 'extensionProperties': {},\n",
      " 'extent': <Extent object at 0x1d7a3f720c8[0x1d7a3f68d20]>,\n",
      " 'featureType': 'Simple',\n",
      " 'fields': [<Field object at 0x1d7a3f72548[0x1d7924a11d0]>,\n",
      "            <Field object at 0x1d7a3f71388[0x1d7924a1a90]>,\n",
      "            <Field object at 0x1d7a3f712c8[0x1d7924a1990]>,\n",
      "            <Field object at 0x1d7a3f715c8[0x1d7924a19f0]>,\n",
      "            <Field object at 0x1d7a3f71508[0x1d7924a1930]>,\n",
      "            <Field object at 0x1d7a3f716c8[0x1d7924a1a70]>,\n",
      "            <Field object at 0x1d7a3f71048[0x1d7924a18d0]>,\n",
      "            <Field object at 0x1d7a3f710c8[0x1d7924a1170]>,\n",
      "            <Field object at 0x1d7a3f71ec8[0x1d7924a1810]>,\n",
      "            <Field object at 0x1d7a3f71e88[0x1d7924a10b0]>,\n",
      "            <Field object at 0x1d7a3f71f48[0x1d7924a10f0]>,\n",
      "            <Field object at 0x1d7a3f71f88[0x1d7924a1c10]>,\n",
      "            <Field object at 0x1d7a3f71b88[0x1d7924a1270]>],\n",
      " 'file': 'ParcelPts',\n",
      " 'fullPropsRetrieved': True,\n",
      " 'geometryStorage': '',\n",
      " 'globalIDFieldName': '',\n",
      " 'hasGlobalID': False,\n",
      " 'hasM': False,\n",
      " 'hasOID': True,\n",
      " 'hasSpatialIndex': True,\n",
      " 'hasZ': False,\n",
      " 'indexes': [<Index object at 0x1d7a3f64d08[0x1d7924a6ab0]>,\n",
      "             <Index object at 0x1d7a3f645c8[0x1d7924a6af0]>],\n",
      " 'isCOGOEnabled': False,\n",
      " 'isTimeInUTC': True,\n",
      " 'isVersioned': False,\n",
      " 'lengthFieldName': '',\n",
      " 'metadataRetrieved': False,\n",
      " 'modelName': '',\n",
      " 'name': 'ParcelPts',\n",
      " 'path': 'C:\\\\EsriTraining\\\\PYTS\\\\Data\\\\CountyData.gdb',\n",
      " 'rasterFieldName': '',\n",
      " 'relationshipClassNames': [],\n",
      " 'representations': [],\n",
      " 'shapeFieldName': 'Shape',\n",
      " 'shapeType': 'Point',\n",
      " 'spatialReference': <SpatialReference object at 0x1d7a3f6e048[0x1d7924a6ad0]>,\n",
      " 'subtypeFieldName': '',\n",
      " 'versionedView': ''}\n"
     ]
    }
   ],
   "source": [
    "pprint(daDesc1)"
   ]
  },
  {
   "cell_type": "markdown",
   "metadata": {},
   "source": [
    "## Display a Describe object"
   ]
  },
  {
   "cell_type": "code",
   "execution_count": 8,
   "metadata": {},
   "outputs": [
    {
     "data": {
      "text/html": [
       "<style>table td#td0  {font-weight: bold}</style><table class=\"notebook\"><colgroup><col style=\"width:45%\"></col><col style=\"width:55%\"></col></colgroup><tr><td id = \"td0\" title=\"catalogPath\">catalogPath</td><td title=\"C:\\EsriTraining\\PYTS\\Data\\CountyData.gdb\\ParcelPts\">C:\\EsriTraining\\PYTS\\Data\\CountyData.gdb\\ParcelPts</td></tr><tr><td id = \"td0\" title=\"dataType\">dataType</td><td title=\"FeatureClass\">FeatureClass</td></tr><tr><td id = \"td0\" title=\"shapeType\">shapeType</td><td title=\"Point\">Point</td></tr><tr><td id = \"td0\" title=\"hasM\">hasM</td><td title=\"False\">False</td></tr><tr><td id = \"td0\" title=\"hasZ\">hasZ</td><td title=\"False\">False</td></tr></table><div class=\"title\"><i class=\"chevron-open\" onClick=\"event.preventDefault();document.getElementById('3D5A679C-F839-4CF7-93A6-8E68A1A08509').style.display =   document.getElementById('3D5A679C-F839-4CF7-93A6-8E68A1A08509').style.display == 'none' ? 'block' : 'none';this.classList.toggle('chevron-closed');\"></i>fields</div><div id=\"3D5A679C-F839-4CF7-93A6-8E68A1A08509\"><style>table td#td0  {font-weight: bold}</style><table class=\"notebook\"><colgroup><col style=\"width:45%\"></col><col style=\"width:55%\"></col></colgroup><tr><td id = \"td0\" title=\"OBJECTID\">OBJECTID</td><td title=\"OID\">OID</td></tr><tr><td id = \"td0\" title=\"Shape\">Shape</td><td title=\"Geometry\">Geometry</td></tr><tr><td id = \"td0\" title=\"Parcel_ID\">Parcel_ID</td><td title=\"Integer\">Integer</td></tr><tr><td id = \"td0\" title=\"Street_Number\">Street_Number</td><td title=\"Integer\">Integer</td></tr><tr><td id = \"td0\" title=\"Street_Name\">Street_Name</td><td title=\"String\">String</td></tr><tr><td id = \"td0\" title=\"City\">City</td><td title=\"String\">String</td></tr><tr><td id = \"td0\" title=\"State\">State</td><td title=\"String\">String</td></tr><tr><td id = \"td0\" title=\"Zip\">Zip</td><td title=\"Integer\">Integer</td></tr><tr><td id = \"td0\" title=\"Owner_Name\">Owner_Name</td><td title=\"String\">String</td></tr><tr><td id = \"td0\" title=\"Phone_Number\">Phone_Number</td><td title=\"String\">String</td></tr><tr><td id = \"td0\" title=\"SquFoot\">SquFoot</td><td title=\"Double\">Double</td></tr><tr><td id = \"td0\" title=\"TaxValue\">TaxValue</td><td title=\"Double\">Double</td></tr><tr><td id = \"td0\" title=\"PriceSquFt\">PriceSquFt</td><td title=\"Double\">Double</td></tr></table></div><div class=\"title\"><i class=\"chevron-open\" onClick=\"event.preventDefault();document.getElementById('FFAEEF2F-9DFC-4171-8858-EAF222D38255').style.display =   document.getElementById('FFAEEF2F-9DFC-4171-8858-EAF222D38255').style.display == 'none' ? 'block' : 'none';this.classList.toggle('chevron-closed');\"></i>spatialReference</div><div id=\"FFAEEF2F-9DFC-4171-8858-EAF222D38255\"><style>table td#td0  {font-weight: bold}</style><table class=\"notebook\"><colgroup><col style=\"width:45%\"></col><col style=\"width:55%\"></col></colgroup><tr><td id = \"td0\" title=\"name (Projected Coordinate System)\">name (Projected Coordinate System)</td><td title=\"NAD_1983_CORS96_StatePlane_North_Carolina_FIPS_3200_Ft_US\">NAD_1983_CORS96_StatePlane_North_Carolina_FIPS_3200_Ft_US</td></tr><tr><td id = \"td0\" title=\"factoryCode (WKID)\">factoryCode (WKID)</td><td title=\"103501\">103501</td></tr><tr><td id = \"td0\" title=\"linearUnitName (Linear Unit)\">linearUnitName (Linear Unit)</td><td title=\"Foot_US\">Foot_US</td></tr></table><div class=\"subtitle\">spatialReference.GCS</div><style>table td#td0  {font-weight: bold}</style><table class=\"notebook\"><colgroup><col style=\"width:45%\"></col><col style=\"width:55%\"></col></colgroup><tr><td id = \"td0\" title=\"name (Geographic Coordinate System)\">name (Geographic Coordinate System)</td><td title=\"GCS_NAD_1983_CORS96\">GCS_NAD_1983_CORS96</td></tr><tr><td id = \"td0\" title=\"factoryCode (WKID)\">factoryCode (WKID)</td><td title=\"6783\">6783</td></tr><tr><td id = \"td0\" title=\"angularUnitName (Angular Unit)\">angularUnitName (Angular Unit)</td><td title=\"Degree\">Degree</td></tr><tr><td id = \"td0\" title=\"datumName (Datum)\">datumName (Datum)</td><td title=\"D_NAD_1983_CORS96\">D_NAD_1983_CORS96</td></tr></table></div><p class=\"gpresult\">For additional help,     see <a href=\"https://pro.arcgis.com/en/pro-app/latest/arcpy/functions/featureclass-properties.htm\" target=\"_blank\" >arcpy.Describe</a></p><br>"
      ],
      "text/plain": [
       "<geoprocessing describe data object at 0x1d7924a1190>"
      ]
     },
     "metadata": {},
     "output_type": "display_data"
    }
   ],
   "source": [
    "display(desc1)"
   ]
  },
  {
   "cell_type": "markdown",
   "metadata": {},
   "source": [
    "## Use a Describe object's properties in a geoprocessing tool"
   ]
  },
  {
   "cell_type": "code",
   "execution_count": 9,
   "metadata": {},
   "outputs": [
    {
     "data": {
      "text/html": [
       "<div class='gpresult'><h2>Messages</h2><div id='messages' data-messages='[\"Start Time: Wednesday, August 24, 2022 4:22:19 PM\",\"Succeeded at Wednesday, August 24, 2022 4:22:20 PM (Elapsed Time: 0.92 seconds)\"]' data-show='true'><div id = 'default' /></div></div>"
      ],
      "text/plain": [
       "<Result 'C:\\\\EsriTraining\\\\PYTS\\\\Data\\\\CountyData.gdb\\\\ParcelPts_new'>"
      ]
     },
     "execution_count": 9,
     "metadata": {},
     "output_type": "execute_result"
    }
   ],
   "source": [
    "# Create a new feature class with many of the same properties as an existing feature class\n",
    "\n",
    "path = desc1.path\n",
    "name = f\"{desc1.name}_new\"\n",
    "geom = desc1.shapeType\n",
    "crs = desc1.spatialReference\n",
    "\n",
    "arcpy.management.CreateFeatureclass(path, name, geom, spatial_reference=crs)"
   ]
  }
 ],
 "metadata": {
  "kernelspec": {
   "display_name": "Python 3",
   "language": "python",
   "name": "python3"
  },
  "language_info": {
   "codemirror_mode": {
    "name": "ipython",
    "version": 3
   },
   "file_extension": ".py",
   "mimetype": "text/x-python",
   "name": "python",
   "nbconvert_exporter": "python",
   "pygments_lexer": "ipython3",
   "version": "3.7.11"
  }
 },
 "nbformat": 4,
 "nbformat_minor": 2
}
