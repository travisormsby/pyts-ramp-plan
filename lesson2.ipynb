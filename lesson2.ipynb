{
 "cells": [
  {
   "cell_type": "markdown",
   "metadata": {},
   "source": [
    "# Challenge Answers"
   ]
  },
  {
   "cell_type": "markdown",
   "metadata": {},
   "source": [
    "There are many possible ways to answer this challenge. One example method is shown below"
   ]
  },
  {
   "cell_type": "markdown",
   "metadata": {
    "heading_collapsed": true
   },
   "source": [
    "## Example script"
   ]
  },
  {
   "cell_type": "code",
   "execution_count": null,
   "metadata": {
    "hidden": true
   },
   "outputs": [],
   "source": [
    "import arcpy\n",
    "\n",
    "# Define input and output feature classes\n",
    "outages = r\"C:\\EsriTraining\\PYTS\\Data\\AppReports.shp\"\n",
    "outageZone = r\"C:\\EsriTraining\\PYTS\\Data\\Outages.gdb\\OutageZone\"\n",
    "riskZone = r\"C:\\EsriTraining\\PYTS\\Data\\Outages.gdb\\RiskZone\"\n",
    "parcels = r\"C:\\EsriTraining\\PYTS\\Data\\CountyData.gdb\\ParcelPts\"\n",
    "outageParcels = r\"C:\\EsriTraining\\PYTS\\Data\\Outages.gdb\\OutageParcels\"\n",
    "riskParcels = r\"C:\\EsriTraining\\PYTS\\Data\\Outages.gdb\\RiskParcels\"\n",
    "\n",
    "# The outage zone is the area within 100 meters of an outage report\n",
    "# Determine the number of parcels in the outage zone\n",
    "distance = \"100 Meters\"\n",
    "arcpy.analysis.Buffer(outages, outageZone, distance, dissolve_option=\"ALL\") \n",
    "arcpy.analysis.SummarizeWithin(outageZone, parcels, outageParcels)\n",
    "\n",
    "# The risk zone is the area within 250 meters of an outage report\n",
    "# Determine the number of parcels in the risk zone\n",
    "distance = \"250 meters\"\n",
    "arcpy.analysis.Buffer(outages, riskZone, distance, dissolve_option=\"ALL\") \n",
    "arcpy.analysis.SummarizeWithin(riskZone, parcels, riskParcels)"
   ]
  },
  {
   "cell_type": "markdown",
   "metadata": {
    "heading_collapsed": true
   },
   "source": [
    "## Use breakbpoints in PyCharm"
   ]
  },
  {
   "cell_type": "markdown",
   "metadata": {
    "hidden": true
   },
   "source": [
    "Breakpoints are markers within your script that pause the script's execution. [This documentation](https://www.jetbrains.com/help/pycharm/using-breakpoints.html) describes how to use breakpoints in PyCharm."
   ]
  }
 ],
 "metadata": {
  "kernelspec": {
   "display_name": "ArcGISPro",
   "language": "Python",
   "name": "python3"
  },
  "language_info": {
   "file_extension": ".py",
   "name": "python",
   "version": "3"
  }
 },
 "nbformat": 4,
 "nbformat_minor": 2
}
