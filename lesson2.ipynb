{
 "cells": [
  {
   "cell_type": "markdown",
   "metadata": {},
   "source": [
    "# Challenge Answers"
   ]
  },
  {
   "cell_type": "markdown",
   "metadata": {},
   "source": [
    "There are many possible ways to answer this challenge. One example method is shown below."
   ]
  },
  {
   "cell_type": "markdown",
   "metadata": {},
   "source": [
    "## Example script"
   ]
  },
  {
   "cell_type": "code",
   "execution_count": 1,
   "metadata": {},
   "outputs": [
    {
     "data": {
      "text/html": [
       "<div class='gpresult'><h2>Messages</h2><div id='messages' data-messages='[\"Start Time: Wednesday, August 24, 2022 4:14:33 PM\",\"Succeeded at Wednesday, August 24, 2022 4:14:49 PM (Elapsed Time: 15.06 seconds)\"]' data-show='true'><div id = 'default' /></div></div>"
      ],
      "text/plain": [
       "<Result 'C:\\\\EsriTraining\\\\PYTS\\\\Data\\\\Outages.gdb\\\\RiskParcels'>"
      ]
     },
     "execution_count": 1,
     "metadata": {},
     "output_type": "execute_result"
    }
   ],
   "source": [
    "import arcpy\n",
    "\n",
    "# Define input and output feature classes\n",
    "outages = r\"C:\\EsriTraining\\PYTS\\Data\\AppReports.shp\"\n",
    "outageZone = r\"C:\\EsriTraining\\PYTS\\Data\\Outages.gdb\\OutageZone\"\n",
    "riskZone = r\"C:\\EsriTraining\\PYTS\\Data\\Outages.gdb\\RiskZone\"\n",
    "parcels = r\"C:\\EsriTraining\\PYTS\\Data\\CountyData.gdb\\ParcelPts\"\n",
    "outageParcels = r\"C:\\EsriTraining\\PYTS\\Data\\Outages.gdb\\OutageParcels\"\n",
    "riskParcels = r\"C:\\EsriTraining\\PYTS\\Data\\Outages.gdb\\RiskParcels\"\n",
    "\n",
    "# The outage zone is the area within 100 meters of an outage report\n",
    "# Determine the number of parcels in the outage zone\n",
    "distance = \"100 Meters\"\n",
    "arcpy.analysis.Buffer(outages, outageZone, distance, dissolve_option=\"ALL\") \n",
    "arcpy.analysis.SummarizeWithin(outageZone, parcels, outageParcels)\n",
    "\n",
    "# The risk zone is the area within 250 meters of an outage report\n",
    "# Determine the number of parcels in the risk zone\n",
    "distance = \"250 meters\"\n",
    "arcpy.analysis.Buffer(outages, riskZone, distance, dissolve_option=\"ALL\") \n",
    "arcpy.analysis.SummarizeWithin(riskZone, parcels, riskParcels)"
   ]
  },
  {
   "cell_type": "markdown",
   "metadata": {},
   "source": [
    "## Use breakpoints in PyCharm"
   ]
  },
  {
   "cell_type": "markdown",
   "metadata": {},
   "source": [
    "Breakpoints are markers within your script that pause the script's execution. [This documentation](https://www.jetbrains.com/help/pycharm/using-breakpoints.html) describes how to use breakpoints in PyCharm."
   ]
  }
 ],
 "metadata": {
  "kernelspec": {
   "display_name": "Python 3",
   "language": "python",
   "name": "python3"
  },
  "language_info": {
   "codemirror_mode": {
    "name": "ipython",
    "version": 3
   },
   "file_extension": ".py",
   "mimetype": "text/x-python",
   "name": "python",
   "nbconvert_exporter": "python",
   "pygments_lexer": "ipython3",
   "version": "3.7.11"
  }
 },
 "nbformat": 4,
 "nbformat_minor": 2
}
