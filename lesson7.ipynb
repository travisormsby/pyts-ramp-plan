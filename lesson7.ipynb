{
 "cells": [
  {
   "cell_type": "markdown",
   "metadata": {},
   "source": [
    "# Challenge answers"
   ]
  },
  {
   "cell_type": "markdown",
   "metadata": {
    "heading_collapsed": true
   },
   "source": [
    "## Add formatting to Notebook"
   ]
  },
  {
   "cell_type": "markdown",
   "metadata": {
    "hidden": true
   },
   "source": [
    "* Change the cell type to markdown to add formatted text, images, lists, links or more.\n",
    "* This [cheat sheet](https://blogs.baruch.cuny.edu/cis3100/?p=52) has details on how you can use Markdown in a notebook.\n",
    "* Markdown is a superset of HTML, so you can also add valid HTML (including in-line CSS) to your markdown cells"
   ]
  },
  {
   "cell_type": "markdown",
   "metadata": {
    "heading_collapsed": true
   },
   "source": [
    "## Convert a feature class to a SeDF"
   ]
  },
  {
   "cell_type": "code",
   "execution_count": 95,
   "metadata": {
    "hidden": true
   },
   "outputs": [],
   "source": [
    "import arcgis\n",
    "import pandas as pd"
   ]
  },
  {
   "cell_type": "code",
   "execution_count": 100,
   "metadata": {
    "hidden": true
   },
   "outputs": [],
   "source": [
    "fc = r\"C:\\EsriTraining\\PYTS\\Data\\CountyData.gdb\\ParcelPts\"\n",
    "sedf = pd.DataFrame.spatial.from_featureclass(fc)"
   ]
  },
  {
   "cell_type": "markdown",
   "metadata": {
    "heading_collapsed": true
   },
   "source": [
    "## Display the first few rows of the data frame"
   ]
  },
  {
   "cell_type": "code",
   "execution_count": 101,
   "metadata": {
    "hidden": true
   },
   "outputs": [
    {
     "data": {
      "text/html": [
       "<div>\n",
       "<style scoped>\n",
       "    .dataframe tbody tr th:only-of-type {\n",
       "        vertical-align: middle;\n",
       "    }\n",
       "\n",
       "    .dataframe tbody tr th {\n",
       "        vertical-align: top;\n",
       "    }\n",
       "\n",
       "    .dataframe thead th {\n",
       "        text-align: right;\n",
       "    }\n",
       "</style>\n",
       "<table border=\"1\" class=\"dataframe\">\n",
       "  <thead>\n",
       "    <tr style=\"text-align: right;\">\n",
       "      <th></th>\n",
       "      <th>OBJECTID</th>\n",
       "      <th>Parcel_ID</th>\n",
       "      <th>Street_Number</th>\n",
       "      <th>Street_Name</th>\n",
       "      <th>City</th>\n",
       "      <th>State</th>\n",
       "      <th>Zip</th>\n",
       "      <th>Owner_Name</th>\n",
       "      <th>Phone_Number</th>\n",
       "      <th>SquFoot</th>\n",
       "      <th>TaxValue</th>\n",
       "      <th>PriceSquFt</th>\n",
       "      <th>SHAPE</th>\n",
       "    </tr>\n",
       "  </thead>\n",
       "  <tbody>\n",
       "    <tr>\n",
       "      <th>0</th>\n",
       "      <td>1</td>\n",
       "      <td>17999712</td>\n",
       "      <td>2015</td>\n",
       "      <td>Hawkins Road</td>\n",
       "      <td>Linden</td>\n",
       "      <td>NC</td>\n",
       "      <td>28356</td>\n",
       "      <td>Keneth Syers</td>\n",
       "      <td>990-272-1227</td>\n",
       "      <td>1608.0</td>\n",
       "      <td>172056.0</td>\n",
       "      <td>NaN</td>\n",
       "      <td>{\"x\": 2057955.9402780533, \"y\": 539525.69377914...</td>\n",
       "    </tr>\n",
       "    <tr>\n",
       "      <th>1</th>\n",
       "      <td>2</td>\n",
       "      <td>17999738</td>\n",
       "      <td>7772</td>\n",
       "      <td>Scott Place Lane</td>\n",
       "      <td>Linden</td>\n",
       "      <td>NC</td>\n",
       "      <td>28356</td>\n",
       "      <td>Laurette Albritton</td>\n",
       "      <td>990-797-2565</td>\n",
       "      <td>1965.0</td>\n",
       "      <td>188640.0</td>\n",
       "      <td>NaN</td>\n",
       "      <td>{\"x\": 2058478.767644465, \"y\": 535951.779667139...</td>\n",
       "    </tr>\n",
       "    <tr>\n",
       "      <th>2</th>\n",
       "      <td>3</td>\n",
       "      <td>17999742</td>\n",
       "      <td>3030</td>\n",
       "      <td>Lukes Run</td>\n",
       "      <td>Linden</td>\n",
       "      <td>NC</td>\n",
       "      <td>28356</td>\n",
       "      <td>Alease Howk</td>\n",
       "      <td>990-206-7743</td>\n",
       "      <td>3007.0</td>\n",
       "      <td>264616.0</td>\n",
       "      <td>88.0</td>\n",
       "      <td>{\"x\": 2058799.324746132, \"y\": 535861.538377806...</td>\n",
       "    </tr>\n",
       "    <tr>\n",
       "      <th>3</th>\n",
       "      <td>4</td>\n",
       "      <td>17999744</td>\n",
       "      <td>7864</td>\n",
       "      <td>Ramsey Street</td>\n",
       "      <td>Linden</td>\n",
       "      <td>NC</td>\n",
       "      <td>28356</td>\n",
       "      <td>Erika Beaven</td>\n",
       "      <td>990-222-7943</td>\n",
       "      <td>3077.0</td>\n",
       "      <td>338470.0</td>\n",
       "      <td>NaN</td>\n",
       "      <td>{\"x\": 2058911.8806233853, \"y\": 535486.18611013...</td>\n",
       "    </tr>\n",
       "    <tr>\n",
       "      <th>4</th>\n",
       "      <td>5</td>\n",
       "      <td>17999745</td>\n",
       "      <td>1767</td>\n",
       "      <td>Burnett Road</td>\n",
       "      <td>Linden</td>\n",
       "      <td>NC</td>\n",
       "      <td>28356</td>\n",
       "      <td>Lowell Pilkins</td>\n",
       "      <td>990-248-1427</td>\n",
       "      <td>3176.0</td>\n",
       "      <td>273136.0</td>\n",
       "      <td>86.0</td>\n",
       "      <td>{\"x\": 2058840.165871799, \"y\": 534811.191069066...</td>\n",
       "    </tr>\n",
       "  </tbody>\n",
       "</table>\n",
       "</div>"
      ],
      "text/plain": [
       "   OBJECTID  ...                                              SHAPE\n",
       "0         1  ...  {\"x\": 2057955.9402780533, \"y\": 539525.69377914...\n",
       "1         2  ...  {\"x\": 2058478.767644465, \"y\": 535951.779667139...\n",
       "2         3  ...  {\"x\": 2058799.324746132, \"y\": 535861.538377806...\n",
       "3         4  ...  {\"x\": 2058911.8806233853, \"y\": 535486.18611013...\n",
       "4         5  ...  {\"x\": 2058840.165871799, \"y\": 534811.191069066...\n",
       "\n",
       "[5 rows x 13 columns]"
      ]
     },
     "execution_count": 101,
     "metadata": {},
     "output_type": "execute_result"
    }
   ],
   "source": [
    "sedf.head()"
   ]
  },
  {
   "cell_type": "markdown",
   "metadata": {
    "heading_collapsed": true
   },
   "source": [
    "## Display a chart of the data"
   ]
  },
  {
   "cell_type": "code",
   "execution_count": 118,
   "metadata": {
    "hidden": true
   },
   "outputs": [],
   "source": [
    "# Import matplotlib to make graphs\n",
    "import matplotlib.pyplot as plt\n",
    "\n",
    "# notebook magic to display graphs in the notebook\n",
    "%matplotlib inline"
   ]
  },
  {
   "cell_type": "code",
   "execution_count": 122,
   "metadata": {
    "hidden": true
   },
   "outputs": [
    {
     "data": {
      "image/png": "[encoded data removed]",
      "text/plain": [
       "<Figure size 432x288 with 1 Axes>"
      ]
     },
     "metadata": {},
     "output_type": "display_data"
    }
   ],
   "source": [
    "# Histogram\n",
    "sedf.hist('TaxValue')\n",
    "plt.show()"
   ]
  },
  {
   "cell_type": "code",
   "execution_count": 123,
   "metadata": {
    "hidden": true
   },
   "outputs": [
    {
     "data": {
      "image/png": "[encoded data removed]",
      "text/plain": [
       "<Figure size 432x288 with 1 Axes>"
      ]
     },
     "metadata": {},
     "output_type": "display_data"
    }
   ],
   "source": [
    "# Scatterplot\n",
    "sedf.plot.scatter('SquFoot', 'TaxValue')\n",
    "plt.show()"
   ]
  }
 ],
 "metadata": {
  "kernelspec": {
   "display_name": "ArcGISPro",
   "language": "Python",
   "name": "python3"
  },
  "language_info": {
   "file_extension": ".py",
   "name": "python",
   "version": "3"
  }
 },
 "nbformat": 4,
 "nbformat_minor": 2
}
