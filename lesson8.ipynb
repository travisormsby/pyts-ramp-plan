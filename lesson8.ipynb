{
 "cells": [
  {
   "cell_type": "markdown",
   "metadata": {},
   "source": [
    "# Challenge Answers"
   ]
  },
  {
   "cell_type": "markdown",
   "metadata": {},
   "source": [
    "There are many different possible ways to answer this challenge. The answers below use the completed ConvertShapefiles demo"
   ]
  },
  {
   "cell_type": "markdown",
   "metadata": {
    "heading_collapsed": true
   },
   "source": [
    "## Changes to script"
   ]
  },
  {
   "cell_type": "code",
   "execution_count": null,
   "metadata": {
    "hidden": true
   },
   "outputs": [],
   "source": [
    "# Code from completed demo\n",
    "\n",
    "import arcpy\n",
    "\n",
    "arcpy.env.workspace = r\"C:\\EsriTraining\\PYTS\\Demodata\\SANDAG\\Ecology\"\n",
    "outWrk = r\"C:\\EsriTraining\\PYTS\\Demodata\\SanDiego.gdb\"\n",
    "\n",
    "fcList = arcpy.ListFeatureClasses()\n",
    "\n",
    "fcNum = len(fcList)\n",
    "\n",
    "print(fcNum)\n",
    "\n",
    "if fcNum > 0:\n",
    "    for fc in fcList:\n",
    "        print(fc)\n",
    "        newName = fc.replace(\".shp\",\"\")\n",
    "\n",
    "        arcpy.FeatureClassToFeatureClass_conversion(fc,outWrk,newName)\n",
    "\n"
   ]
  },
  {
   "cell_type": "code",
   "execution_count": null,
   "metadata": {
    "hidden": true
   },
   "outputs": [],
   "source": [
    "# Script tool code changes\n",
    "\n",
    "import arcpy\n",
    "\n",
    "# replace hard-coded file paths with functions to get user input\n",
    "arcpy.env.workspace = arcpy.GetParameterAsText(0)\n",
    "outWrk = arcpy.GetParameterAsText(1)\n",
    "\n",
    "fcList = arcpy.ListFeatureClasses()\n",
    "\n",
    "fcNum = len(fcList)\n",
    "\n",
    "print(fcNum)\n",
    "\n",
    "if fcNum > 0:\n",
    "    for fc in fcList:\n",
    "        arcpy.AddMessage(fc) # no print function inside the GP GUI, use messages instead\n",
    "        newName = fc.replace(\".shp\",\"\")\n",
    "\n",
    "        arcpy.FeatureClassToFeatureClass_conversion(fc,outWrk,newName)"
   ]
  },
  {
   "cell_type": "markdown",
   "metadata": {
    "heading_collapsed": true
   },
   "source": [
    "## Script tool configuration"
   ]
  },
  {
   "cell_type": "markdown",
   "metadata": {
    "hidden": true
   },
   "source": [
    "* To start a script tool, right-click a toolbox and select New > Script \n",
    "* On the General tab, give the script tool a name (no spaces) and a label (spaces ok)\n",
    "* On the Execution tab, load the .py script file. You can continue editing the script file after associating it with the script tool\n",
    "* On the Parameters tab, configure the parameters tab. In this case, we need just input and output workspace parameters, configured as follows:\n",
    "\n",
    "![script tool parameters](scriptToolParams.png)"
   ]
  }
 ],
 "metadata": {
  "kernelspec": {
   "display_name": "ArcGISPro",
   "language": "Python",
   "name": "python3"
  },
  "language_info": {
   "file_extension": ".py",
   "name": "python",
   "version": "3"
  }
 },
 "nbformat": 4,
 "nbformat_minor": 2
}
