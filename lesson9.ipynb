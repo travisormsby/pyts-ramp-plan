{
 "cells": [
  {
   "cell_type": "markdown",
   "metadata": {},
   "source": [
    "# Challenge Answers"
   ]
  },
  {
   "cell_type": "markdown",
   "metadata": {},
   "source": [
    "This answer uses the Tree Height Calculation tool created in Demo 8."
   ]
  },
  {
   "cell_type": "markdown",
   "metadata": {},
   "source": [
    "## Dynamically enable/disable parameter"
   ]
  },
  {
   "cell_type": "code",
   "execution_count": null,
   "metadata": {},
   "outputs": [],
   "source": [
    "# This script disables the Output tree canopies parameter unless the Surface raster parameter is set to nDSM.tif\n",
    "\n",
    "class ToolValidator:\n",
    "  # Class to add custom behavior and properties to the tool and tool parameters.\n",
    "\n",
    "    def __init__(self):\n",
    "        # set self.params for use in other function\n",
    "        self.params = arcpy.GetParameterInfo()\n",
    "\n",
    "    def initializeParameters(self):\n",
    "        # Customize parameter properties. \n",
    "        # This gets called when the tool is opened.\n",
    "        self.params[3].enabled = False\n",
    "\n",
    "    def updateParameters(self):\n",
    "        # Modify parameter values and properties.\n",
    "        # This gets called each time a parameter is modified, before \n",
    "        # standard validation.\n",
    "        if self.params[2].valueAsText == 'nDSM.tif':\n",
    "            self.params[3].enabled = True\n",
    "        else:\n",
    "            self.params[3].enabled = False\n",
    "\n",
    "    def updateMessages(self):\n",
    "        # Customize messages for the parameters.\n",
    "        # This gets called after standard validation.\n",
    "        return\n",
    "\n",
    "    # def isLicensed(self):\n",
    "    #     # set tool isLicensed.\n",
    "    # return True"
   ]
  }
 ],
 "metadata": {
  "kernelspec": {
   "display_name": "Python 3",
   "language": "python",
   "name": "python3"
  },
  "language_info": {
   "codemirror_mode": {
    "name": "ipython",
    "version": 3
   },
   "file_extension": ".py",
   "mimetype": "text/x-python",
   "name": "python",
   "nbconvert_exporter": "python",
   "pygments_lexer": "ipython3",
   "version": "3.7.11"
  }
 },
 "nbformat": 4,
 "nbformat_minor": 2
}
