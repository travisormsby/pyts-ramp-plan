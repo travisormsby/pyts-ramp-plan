{
 "cells": [
  {
   "cell_type": "markdown",
   "metadata": {},
   "source": [
    "# Challenge Answers"
   ]
  },
  {
   "cell_type": "markdown",
   "metadata": {},
   "source": [
    "## List of field names for every feature class in a geodatabase"
   ]
  },
  {
   "cell_type": "code",
   "execution_count": 1,
   "metadata": {},
   "outputs": [],
   "source": [
    "import arcpy\n",
    "arcpy.env.workspace = r\"C:\\EsriTraining\\PYTS\\Data\\CountyData.gdb\""
   ]
  },
  {
   "cell_type": "code",
   "execution_count": 2,
   "metadata": {},
   "outputs": [
    {
     "name": "stdout",
     "output_type": "stream",
     "text": [
      "['OBJECTID', 'Shape', 'Parcel_ID', 'Street_Number', 'Street_Name', 'City', 'State', 'Zip', 'Owner_Name', 'Phone_Number', 'SquFoot', 'TaxValue', 'PriceSquFt', 'OBJECTID', 'Shape', 'Id', 'ServArNu', 'Shape_Length', 'Shape_Area', 'OBJECTID', 'Shape', 'ParcelWithNames_OBJECTID', 'Shape_Length', 'Shape_Area', 'OBJECTID', 'Shape']\n"
     ]
    }
   ],
   "source": [
    "fieldNameList = []\n",
    "for fc in arcpy.ListFeatureClasses():\n",
    "    for field in arcpy.ListFields(fc):\n",
    "        fieldNameList.append(field.name)\n",
    "print(fieldNameList)"
   ]
  },
  {
   "cell_type": "markdown",
   "metadata": {},
   "source": [
    "## Same list with a single list comprehension"
   ]
  },
  {
   "cell_type": "code",
   "execution_count": 3,
   "metadata": {},
   "outputs": [
    {
     "data": {
      "text/plain": [
       "['OBJECTID', 'Shape', 'Parcel_ID', 'Street_Number', 'Street_Name', 'City', 'State', 'Zip', 'Owner_Name', 'Phone_Number', 'SquFoot', 'TaxValue', 'PriceSquFt', 'OBJECTID', 'Shape', 'Id', 'ServArNu', 'Shape_Length', 'Shape_Area', 'OBJECTID', 'Shape', 'ParcelWithNames_OBJECTID', 'Shape_Length', 'Shape_Area', 'OBJECTID', 'Shape']"
      ]
     },
     "execution_count": 3,
     "metadata": {},
     "output_type": "execute_result"
    }
   ],
   "source": [
    "[field.name for fc in arcpy.ListFeatureClasses() for field in arcpy.ListFields(fc)]"
   ]
  }
 ],
 "metadata": {
  "kernelspec": {
   "display_name": "Python 3",
   "language": "python",
   "name": "python3"
  },
  "language_info": {
   "codemirror_mode": {
    "name": "ipython",
    "version": 3
   },
   "file_extension": ".py",
   "mimetype": "text/x-python",
   "name": "python",
   "nbconvert_exporter": "python",
   "pygments_lexer": "ipython3",
   "version": "3.7.11"
  }
 },
 "nbformat": 4,
 "nbformat_minor": 2
}
