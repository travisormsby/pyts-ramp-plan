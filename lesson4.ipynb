{
 "cells": [
  {
   "cell_type": "markdown",
   "metadata": {},
   "source": [
    "# Challenge Answers"
   ]
  },
  {
   "cell_type": "markdown",
   "metadata": {
    "heading_collapsed": true
   },
   "source": [
    "## List of field names for every feature class in a geodatabase"
   ]
  },
  {
   "cell_type": "code",
   "execution_count": 2,
   "metadata": {
    "hidden": true
   },
   "outputs": [],
   "source": [
    "arcpy.env.workspace = r\"C:\\EsriTraining\\PYTS\\Data\\CountyData.gdb\""
   ]
  },
  {
   "cell_type": "code",
   "execution_count": 3,
   "metadata": {
    "hidden": true
   },
   "outputs": [
    {
     "name": "stdout",
     "output_type": "stream",
     "text": [
      "['OBJECTID', 'Shape', 'Parcel_ID', 'Street_Number', 'Street_Name', 'City', 'State', 'Zip', 'Owner_Name', 'Phone_Number', 'SquFoot', 'TaxValue', 'PriceSquFt', 'OBJECTID', 'Shape', 'Id', 'ServArNu', 'Shape_Length', 'Shape_Area', 'OBJECTID', 'Shape', 'ParcelWithNames_OBJECTID', 'Shape_Length', 'Shape_Area']\n"
     ]
    }
   ],
   "source": [
    "fieldNameList = []\n",
    "for fc in arcpy.ListFeatureClasses():\n",
    "    for field in arcpy.ListFields(fc):\n",
    "        fieldNameList.append(field.name)\n",
    "print(fieldNameList)"
   ]
  },
  {
   "cell_type": "markdown",
   "metadata": {
    "heading_collapsed": true
   },
   "source": [
    "## Same list with a single list comprehension"
   ]
  },
  {
   "cell_type": "code",
   "execution_count": 4,
   "metadata": {
    "hidden": true
   },
   "outputs": [
    {
     "data": {
      "text/plain": [
       "['OBJECTID', 'Shape', 'Parcel_ID', 'Street_Number', 'Street_Name', 'City', 'State', 'Zip', 'Owner_Name', 'Phone_Number', 'SquFoot', 'TaxValue', 'PriceSquFt', 'OBJECTID', 'Shape', 'Id', 'ServArNu', 'Shape_Length', 'Shape_Area', 'OBJECTID', 'Shape', 'ParcelWithNames_OBJECTID', 'Shape_Length', 'Shape_Area']"
      ]
     },
     "execution_count": 4,
     "metadata": {},
     "output_type": "execute_result"
    }
   ],
   "source": [
    "[field.name for fc in arcpy.ListFeatureClasses() for field in arcpy.ListFields(fc)]"
   ]
  }
 ],
 "metadata": {
  "interpreter": {
   "hash": "2be5faf79681da6f2a61fdfdd5405d65d042280f7fba6178067603e3a2925119"
  },
  "kernelspec": {
   "display_name": "ArcGISPro",
   "language": "Python",
   "name": "python3"
  },
  "language_info": {
   "file_extension": ".py",
   "name": "python",
   "version": "3"
  }
 },
 "nbformat": 4,
 "nbformat_minor": 2
}
